{
  "nbformat": 4,
  "nbformat_minor": 0,
  "metadata": {
    "colab": {
      "name": "Assignment-1.ipynb",
      "provenance": [],
      "collapsed_sections": [],
      "authorship_tag": "ABX9TyOlPP1zdyNx6YBm6QScXCKo",
      "include_colab_link": true
    },
    "kernelspec": {
      "name": "python3",
      "display_name": "Python 3"
    },
    "language_info": {
      "name": "python"
    }
  },
  "cells": [
    {
      "cell_type": "markdown",
      "metadata": {
        "id": "view-in-github",
        "colab_type": "text"
      },
      "source": [
        "<a href=\"https://colab.research.google.com/github/Jagannath8/100-Days-of-Uplift/blob/main/Assignment_1.ipynb\" target=\"_parent\"><img src=\"https://colab.research.google.com/assets/colab-badge.svg\" alt=\"Open In Colab\"/></a>"
      ]
    },
    {
      "cell_type": "markdown",
      "metadata": {
        "id": "KOZ88iLefWU2"
      },
      "source": [
        "# **100 Days of Uplift**"
      ]
    },
    {
      "cell_type": "markdown",
      "metadata": {
        "id": "Rfu-CtvwZZku"
      },
      "source": [
        "# Assignment 1"
      ]
    },
    {
      "cell_type": "markdown",
      "metadata": {
        "id": "_98FwSA6ZS9p"
      },
      "source": [
        "Ques:1: Write a program to reverse a NumPy array. \n",
        "\n",
        "(Create your own array using array() function of NumPy library)\n"
      ]
    },
    {
      "cell_type": "code",
      "metadata": {
        "colab": {
          "base_uri": "https://localhost:8080/"
        },
        "id": "Qx-H4jqdZQyY",
        "outputId": "dbe751ce-648a-4409-897f-91bd636400c2"
      },
      "source": [
        "import numpy as np\n",
        "arr = ([10, 20, 30, 40, 50])\n",
        "print(\"Original array: \", arr)\n",
        "rev = np.flip(arr)\n",
        "print(\"Reversed array: \", rev)"
      ],
      "execution_count": null,
      "outputs": [
        {
          "output_type": "stream",
          "text": [
            "Original array:  [10, 20, 30, 40, 50]\n",
            "Reversed array:  [50 40 30 20 10]\n"
          ],
          "name": "stdout"
        }
      ]
    },
    {
      "cell_type": "markdown",
      "metadata": {
        "id": "tnATBVTqeIXl"
      },
      "source": [
        "\n",
        "\n",
        "---\n",
        "\n"
      ]
    },
    {
      "cell_type": "markdown",
      "metadata": {
        "id": "5zeKsDTRaF-7"
      },
      "source": [
        "Ques:2:Extract all odd numbers from arr. \n",
        "\n",
        "Input: arr = np.array([0, 1, 2, 3, 4, 5, 6, 7, 8, 9])"
      ]
    },
    {
      "cell_type": "code",
      "metadata": {
        "colab": {
          "base_uri": "https://localhost:8080/"
        },
        "id": "OyQsPqkdaKU7",
        "outputId": "d9511548-2034-4473-c8c2-34b0b389b030"
      },
      "source": [
        "arr = np.array([0, 1, 2, 3, 4, 5, 6, 7, 8, 9])\n",
        "odd = arr[arr % 2 == 1]\n",
        "print(\"Odd numbers\", odd)"
      ],
      "execution_count": null,
      "outputs": [
        {
          "output_type": "stream",
          "text": [
            "Odd numbers [1 3 5 7 9]\n"
          ],
          "name": "stdout"
        }
      ]
    },
    {
      "cell_type": "markdown",
      "metadata": {
        "id": "NoS3M34peHZV"
      },
      "source": [
        "\n",
        "\n",
        "---\n",
        "\n"
      ]
    },
    {
      "cell_type": "markdown",
      "metadata": {
        "id": "lR3NXRpdcjDS"
      },
      "source": [
        "Ques:3:Convert a 1D array to a 2D array with 2 rows. \n",
        "\n",
        "Input: np.arange(10)"
      ]
    },
    {
      "cell_type": "code",
      "metadata": {
        "colab": {
          "base_uri": "https://localhost:8080/"
        },
        "id": "Ky_pU2oPcoDf",
        "outputId": "984f0383-5dee-48f6-fb3a-6cbd7cf6f719"
      },
      "source": [
        "a = np.arange(10)\n",
        "print(\"1D array: \", a)\n",
        "print(\"2D array: \\n\", np.reshape(a, (2, 5)))"
      ],
      "execution_count": null,
      "outputs": [
        {
          "output_type": "stream",
          "text": [
            "1D array:  [0 1 2 3 4 5 6 7 8 9]\n",
            "2D array: \n",
            " [[0 1 2 3 4]\n",
            " [5 6 7 8 9]]\n"
          ],
          "name": "stdout"
        }
      ]
    },
    {
      "cell_type": "markdown",
      "metadata": {
        "id": "ZXkZkGA8eFxf"
      },
      "source": [
        "\n",
        "\n",
        "---\n",
        "\n"
      ]
    },
    {
      "cell_type": "markdown",
      "metadata": {
        "id": "0KxPso1ZeQct"
      },
      "source": [
        "Ques:4:Get the common items between a and b. \n",
        "\n",
        "Input: a = np.array([1,2,3,2,3,4,3,4,5,6]) ;\n",
        "\n",
        "b = np.array([7,2,10,2,7,4,9,4,9,8])"
      ]
    },
    {
      "cell_type": "code",
      "metadata": {
        "colab": {
          "base_uri": "https://localhost:8080/"
        },
        "id": "f6xnsY2ZdjBm",
        "outputId": "ed5125b5-5ce8-41ee-f8cb-e4d03169412b"
      },
      "source": [
        "a = np.array([1,2,3,2,3,4,3,4,5,6]) \n",
        "b = np.array([7,2,10,2,7,4,9,4,9,8])\n",
        "print(\"Common items between a and b are: \", np.intersect1d(a, b))"
      ],
      "execution_count": null,
      "outputs": [
        {
          "output_type": "stream",
          "text": [
            "Common items between a and b are:  [2 4]\n"
          ],
          "name": "stdout"
        }
      ]
    },
    {
      "cell_type": "markdown",
      "metadata": {
        "id": "WbjD4okxeEPm"
      },
      "source": [
        "\n",
        "\n",
        "---\n",
        "\n"
      ]
    },
    {
      "cell_type": "markdown",
      "metadata": {
        "id": "JBJKMj-HdjqT"
      },
      "source": [
        "Quest:5: Swap rows 1 and 2 in the array arr. \n",
        "\n",
        "Input:arr = np.arange(9).reshape(3,3) ;arr"
      ]
    },
    {
      "cell_type": "code",
      "metadata": {
        "colab": {
          "base_uri": "https://localhost:8080/"
        },
        "id": "uG4grn-geZLv",
        "outputId": "820bb4d3-ee49-410a-fee9-c84505348e5e"
      },
      "source": [
        "arr = np.arange(9).reshape(3,3)\n",
        "print(\"Array is: \\n\", arr)\n",
        "rev1 = np.flip(arr[0])\n",
        "print(\"Reverse of row1: \", rev1)\n",
        "rev2 = np.flip(arr[1])\n",
        "print(\"Reverse of row1: \", rev2)"
      ],
      "execution_count": null,
      "outputs": [
        {
          "output_type": "stream",
          "text": [
            "Array is: \n",
            " [[0 1 2]\n",
            " [3 4 5]\n",
            " [6 7 8]]\n",
            "Reverse of row1:  [2 1 0]\n",
            "Reverse of row1:  [5 4 3]\n"
          ],
          "name": "stdout"
        }
      ]
    },
    {
      "cell_type": "markdown",
      "metadata": {
        "id": "i-8VXsA5fFo-"
      },
      "source": [
        "\n",
        "\n",
        "---\n",
        "\n"
      ]
    }
  ]
}